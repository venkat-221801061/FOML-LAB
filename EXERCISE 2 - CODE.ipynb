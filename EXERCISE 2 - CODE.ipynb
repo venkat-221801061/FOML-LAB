{
 "cells": [
  {
   "cell_type": "code",
   "execution_count": null,
   "id": "41166fa9",
   "metadata": {},
   "outputs": [],
   "source": [
    "import numpy as np\n",
    "import matplotlib.pyplot as plt\n",
    "\n",
    "# 1. Simulate data (y = 2x + 5 + noise)\n",
    "np.random.seed(0)\n",
    "X = np.random.rand(100) * 10\n",
    "noise = np.random.randn(100)\n",
    "y = 2 * X + 5 + noise\n",
    "\n",
    "# 2. Least Squares Calculation\n",
    "x_mean = np.mean(X)\n",
    "y_mean = np.mean(y)\n",
    "\n",
    "numerator = np.sum((X - x_mean) * (y - y_mean))\n",
    "denominator = np.sum((X - x_mean) ** 2)\n",
    "slope = numerator / denominator\n",
    "intercept = y_mean - slope * x_mean\n",
    "\n",
    "# 3. Predictions\n",
    "y_pred = slope * X + intercept\n",
    "\n",
    "# 4. Plot\n",
    "plt.figure(figsize=(6,4))\n",
    "plt.scatter(X, y, label=\"Actual\", color=\"blue\")\n",
    "plt.plot(X, y_pred, color=\"red\", label=\"Prediction (Line of Best Fit)\")\n",
    "plt.title(\"Simple Linear Regression - Least Squares\")\n",
    "plt.xlabel(\"X\")\n",
    "plt.ylabel(\"y\")\n",
    "plt.legend()\n",
    "plt.show()\n",
    "\n",
    "# 5. Performance Metrics\n",
    "mse = np.mean((y - y_pred) ** 2)\n",
    "r2 = 1 - (np.sum((y - y_pred)**2) / np.sum((y - np.mean(y))**2))\n",
    "\n",
    "# 6. Output\n",
    "print(f\"Intercept: {intercept:.2f}\")\n",
    "print(f\"Slope: {slope:.2f}\")\n",
    "print(f\"Mean Squared Error (MSE): {mse:.2f}\")\n",
    "print(f\"R² Score: {r2:.2f}\")\n",
    "\n",
    "\n"
   ]
  }
 ],
 "metadata": {
  "language_info": {
   "name": "python"
  }
 },
 "nbformat": 4,
 "nbformat_minor": 5
}
